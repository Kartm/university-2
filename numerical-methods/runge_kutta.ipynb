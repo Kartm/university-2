{
 "cells": [
  {
   "cell_type": "code",
   "execution_count": 87,
   "metadata": {},
   "outputs": [],
   "source": [
    "# Łukasz Blachnicki\n",
    "\n",
    "# inputs\n",
    "a = 1\n",
    "x = 0\n",
    "b = 1\n",
    "y = 1\n",
    "h = 0.1\n",
    "n = 2\n",
    "\n",
    "# choose the variant\n",
    "def function(x: float, y: float): return (a * x) + (b * y)\n",
    "# def function(x: float, y: float): return (a * x) - (b * y)\n",
    "# def function(x: float, y: float): return (a * x) * (b * y)\n",
    "# def function(x: float, y: float): return (a * x) / (b * y)\n",
    "\n",
    "def runge3(x_0, y_0):\n",
    "    def m_1(x_i: float, y_i: float): return function(x_i, y_i)\n",
    "    def m_2(x_i: float, y_i: float): return function(x_i + h / 2, y_i + h * m_1(x_i, y_i) / 2)\n",
    "    def m_3(x_i: float, y_i: float): return function(x_i + h, y_i - h * m_1(x_i, y_i) + 2 * h * m_2(x_i, y_i))\n",
    "\n",
    "    x = [0] * (n + 1)\n",
    "    y = [0] * (n + 1)\n",
    "\n",
    "    x[0] = x_0\n",
    "    y[0] = y_0\n",
    "    for i in range(0, n):\n",
    "        y[i + 1] = y[i] + h / 6 * (m_1(x[i], y[i]) + 4 * m_2(x[i], y[i]) + m_3(x[i], y[i]))\n",
    "        x[i + 1] = x_0 + (i + 1) * h\n",
    "\n",
    "    return x, y\n",
    "\n",
    "\n",
    "def runge4(x_0, y_0):\n",
    "    def m_1(x_i: float, y_i: float): return function(x_i, y_i)\n",
    "    def m_2(x_i: float, y_i: float): return function(x_i + h / 2, y_i + h * m_1(x_i, y_i) / 2)\n",
    "    def m_3(x_i: float, y_i: float): return function(x_i + h / 2, y_i + h * m_2(x_i, y_i) / 2)\n",
    "    def m_4(x_i: float, y_i: float): return function(x_i + h, y_i + h * m_3(x_i, y_i))\n",
    "\n",
    "    x = [0] * (n + 1)\n",
    "    y = [0] * (n + 1)\n",
    "\n",
    "    x[0] = x_0\n",
    "    y[0] = y_0\n",
    "    for i in range(0, n):\n",
    "        y[i + 1] = y[i] + h / 6 * (m_1(x[i], y[i]) + 2 * m_2(x[i], y[i]) + 2 * m_3(x[i], y[i]) + m_4(x[i], y[i]))\n",
    "        x[i + 1] = x[i] + h\n",
    "\n",
    "    return x, y"
   ]
  },
  {
   "cell_type": "code",
   "execution_count": 88,
   "metadata": {},
   "outputs": [
    {
     "name": "stderr",
     "output_type": "stream",
     "text": [
      "test_fourth_order (__main__.TestNotebook) ... ok\n",
      "test_third_order (__main__.TestNotebook) ... ok\n",
      "\n",
      "----------------------------------------------------------------------\n",
      "Ran 2 tests in 0.007s\n",
      "\n",
      "OK\n"
     ]
    },
    {
     "data": {
      "text/plain": "<unittest.main.TestProgram at 0x7f8cce9a0c50>"
     },
     "execution_count": 88,
     "metadata": {},
     "output_type": "execute_result"
    }
   ],
   "source": [
    "import unittest\n",
    "\n",
    "\n",
    "class TestNotebook(unittest.TestCase):\n",
    "    def test_third_order(self):\n",
    "        # given\n",
    "        x_0 = 0\n",
    "        y_0 = 1\n",
    "\n",
    "        # when\n",
    "        x, y = runge3(x_0, y_0)\n",
    "\n",
    "        # then\n",
    "        self.assertAlmostEqual(x[0], 0)\n",
    "        self.assertAlmostEqual(y[0], 1)\n",
    "        self.assertAlmostEqual(x[1], 0.1)\n",
    "        self.assertAlmostEqual(y[1], 1.1103, 4)\n",
    "        self.assertAlmostEqual(x[2], 0.2)\n",
    "        self.assertAlmostEqual(y[2], 1.2428, 4)\n",
    "\n",
    "    def test_fourth_order(self):\n",
    "        # given\n",
    "        x_0 = 0\n",
    "        y_0 = 1\n",
    "\n",
    "        # when\n",
    "        x, y = runge4(x_0, y_0)\n",
    "\n",
    "        # then\n",
    "        self.assertAlmostEqual(x[0], 0)\n",
    "        self.assertAlmostEqual(y[0], 1)\n",
    "        self.assertAlmostEqual(x[1], 0.1)\n",
    "        self.assertAlmostEqual(y[1], 1.1103, 4)\n",
    "        self.assertAlmostEqual(x[2], 0.2)\n",
    "        self.assertAlmostEqual(y[2], 1.2428, 4)\n",
    "\n",
    "\n",
    "unittest.main(argv=[''], verbosity=2, exit=False)"
   ]
  },
  {
   "cell_type": "code",
   "execution_count": 72,
   "outputs": [],
   "source": [],
   "metadata": {
    "collapsed": false
   }
  }
 ],
 "metadata": {
  "kernelspec": {
   "display_name": "Python 3 (ipykernel)",
   "language": "python",
   "name": "python3"
  },
  "language_info": {
   "codemirror_mode": {
    "name": "ipython",
    "version": 3
   },
   "file_extension": ".py",
   "mimetype": "text/x-python",
   "name": "python",
   "nbconvert_exporter": "python",
   "pygments_lexer": "ipython3",
   "version": "3.7.9"
  },
  "toc": {
   "base_numbering": 1,
   "nav_menu": {},
   "number_sections": true,
   "sideBar": true,
   "skip_h1_title": false,
   "title_cell": "Table of Contents",
   "title_sidebar": "Contents",
   "toc_cell": false,
   "toc_position": {},
   "toc_section_display": true,
   "toc_window_display": false
  }
 },
 "nbformat": 4,
 "nbformat_minor": 1
}

{
 "cells": [
  {
   "cell_type": "code",
   "execution_count": 1,
   "metadata": {},
   "outputs": [],
   "source": [
    "# Łukasz Blachnicki\n",
    "\n",
    "from typing import Tuple, List\n",
    "\n",
    "Point = Tuple[float, float]\n",
    "\n",
    "def interpolate(x: float, points: List[Point]):\n",
    "    n = len(points)\n",
    "\n",
    "    W_x = 0\n",
    "\n",
    "    for i in range(n):\n",
    "        product = 1\n",
    "        for j in range(n):\n",
    "            if i == j:\n",
    "                continue\n",
    "            product *= (x - points[j][0])/(points[i][0] - points[j][0])\n",
    "\n",
    "        W_x += product * points[i][1]\n",
    "\n",
    "    return W_x"
   ]
  },
  {
   "cell_type": "code",
   "execution_count": 8,
   "metadata": {},
   "outputs": [
    {
     "name": "stderr",
     "output_type": "stream",
     "text": [
      "test_euler_method (__main__.TestNotebook) ... ok\n",
      "\n",
      "----------------------------------------------------------------------\n",
      "Ran 1 test in 0.001s\n",
      "\n",
      "OK\n"
     ]
    },
    {
     "data": {
      "text/plain": "<unittest.main.TestProgram at 0x7f82f9b4af10>"
     },
     "execution_count": 8,
     "metadata": {},
     "output_type": "execute_result"
    }
   ],
   "source": [
    "import unittest\n",
    "\n",
    "class TestNotebook(unittest.TestCase):\n",
    "\n",
    "    def test_euler_method(self):\n",
    "        x_0 = 0.0\n",
    "        y_0 = 1.0\n",
    "        n = 10\n",
    "        h = 0.1\n",
    "\n",
    "        def F(u: float, v: float): # F(x_i, y_i)\n",
    "            return u + v\n",
    "\n",
    "        x = [0] * (n+1)\n",
    "        y = [0] * (n+1)\n",
    "\n",
    "\n",
    "        x[0] = x_0\n",
    "        y[0] = y_0\n",
    "\n",
    "        for i in range(0, n): # [0, [...], n-1]\n",
    "            x[i] = x[0] + i * h\n",
    "            y[i + 1] = y[i] + h * F(x[i], y[i])\n",
    "\n",
    "        self.assertAlmostEqual(x[1], 0.1)\n",
    "        self.assertAlmostEqual(y[1], 1.1)\n",
    "        self.assertAlmostEqual(x[2], 0.2)\n",
    "        self.assertAlmostEqual(y[2], 1.22)\n",
    "        self.assertAlmostEqual(x[3], 0.3)\n",
    "        self.assertAlmostEqual(y[3], 1.362)\n",
    "\n",
    "    # todo first improvement\n",
    "\n",
    "\n",
    "unittest.main(argv=[''], verbosity=2, exit=False)"
   ]
  },
  {
   "cell_type": "code",
   "execution_count": null,
   "outputs": [],
   "source": [],
   "metadata": {
    "collapsed": false
   }
  }
 ],
 "metadata": {
  "kernelspec": {
   "display_name": "Python 3 (ipykernel)",
   "language": "python",
   "name": "python3"
  },
  "language_info": {
   "codemirror_mode": {
    "name": "ipython",
    "version": 3
   },
   "file_extension": ".py",
   "mimetype": "text/x-python",
   "name": "python",
   "nbconvert_exporter": "python",
   "pygments_lexer": "ipython3",
   "version": "3.7.9"
  },
  "toc": {
   "base_numbering": 1,
   "nav_menu": {},
   "number_sections": true,
   "sideBar": true,
   "skip_h1_title": false,
   "title_cell": "Table of Contents",
   "title_sidebar": "Contents",
   "toc_cell": false,
   "toc_position": {},
   "toc_section_display": true,
   "toc_window_display": false
  }
 },
 "nbformat": 4,
 "nbformat_minor": 1
}

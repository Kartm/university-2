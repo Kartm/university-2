{
 "cells": [
  {
   "cell_type": "code",
   "execution_count": 46,
   "metadata": {},
   "outputs": [],
   "source": [
    "# Łukasz Blachnicki\n",
    "from typing import Callable\n",
    "\n",
    "def basic_euler_method(x_0, y_0, n, h, F: Callable[[float, float], float]):\n",
    "    x = [0] * (n+1)\n",
    "    y = [0] * (n+1)\n",
    "\n",
    "    x[0] = x_0\n",
    "    y[0] = y_0\n",
    "\n",
    "    for i in range(0, n): # [0, [...], n-1]\n",
    "        x[i] = x[0] + i * h\n",
    "        y[i + 1] = y[i] + h * F(x[i], y[i])\n",
    "\n",
    "    return x, y\n",
    "\n",
    "def improved_euler_method(x_0, y_0, n, h, F: Callable[[float, float], float]):\n",
    "    x = [0] * (n+1)\n",
    "    y = [0] * (n+1)\n",
    "\n",
    "    x[0] = x_0\n",
    "    y[0] = y_0\n",
    "\n",
    "    for i in range(1, n + 1): # [1, [...], n]\n",
    "        x[i] = x[0] + i * h\n",
    "\n",
    "\n",
    "    for i in range(0, n): # [0, [...], n-1]\n",
    "        x_star = 0.5 * (x[i] + x[i+1]) # avg\n",
    "        y_star = y[i] + 0.5 * h * F(x[i], y[i])\n",
    "        m_star = F(x_star, y_star)\n",
    "        y[i+1] = y[i] + h * m_star\n",
    "\n",
    "    return x, y"
   ]
  },
  {
   "cell_type": "code",
   "execution_count": 47,
   "metadata": {},
   "outputs": [
    {
     "name": "stderr",
     "output_type": "stream",
     "text": [
      "test_basic_euler_method (__main__.TestNotebook) ... ok\n",
      "test_improved_euler_method (__main__.TestNotebook) ... ok\n",
      "\n",
      "----------------------------------------------------------------------\n",
      "Ran 2 tests in 0.004s\n",
      "\n",
      "OK\n"
     ]
    },
    {
     "data": {
      "text/plain": "<unittest.main.TestProgram at 0x7f82fa43aa10>"
     },
     "execution_count": 47,
     "metadata": {},
     "output_type": "execute_result"
    }
   ],
   "source": [
    "import unittest\n",
    "\n",
    "class TestNotebook(unittest.TestCase):\n",
    "    def test_basic_euler_method(self):\n",
    "        # given\n",
    "        x_0 = 0.0\n",
    "        y_0 = 1.0\n",
    "        n = 4\n",
    "        h = 0.1\n",
    "        def F(u: float, v: float): return u + v\n",
    "\n",
    "        # when\n",
    "        x, y = basic_euler_method(x_0, y_0, n, h, F)\n",
    "\n",
    "        # then\n",
    "        self.assertAlmostEqual(x[1], 0.1)\n",
    "        self.assertAlmostEqual(y[1], 1.1)\n",
    "        self.assertAlmostEqual(x[2], 0.2)\n",
    "        self.assertAlmostEqual(y[2], 1.22)\n",
    "        self.assertAlmostEqual(x[3], 0.3)\n",
    "        self.assertAlmostEqual(y[3], 1.362)\n",
    "\n",
    "    def test_improved_euler_method(self):\n",
    "        # given\n",
    "        x_0 = 0.0\n",
    "        y_0 = 1.0\n",
    "        n = 4\n",
    "        h = 0.1\n",
    "        def F(u: float, v: float): return u + v\n",
    "\n",
    "        # when\n",
    "        x, y = improved_euler_method(x_0, y_0, n, h, F)\n",
    "\n",
    "        # then\n",
    "        self.assertAlmostEqual(x[1], 0.1)\n",
    "        self.assertAlmostEqual(y[1], 1.11)\n",
    "        self.assertAlmostEqual(x[2], 0.2)\n",
    "        self.assertAlmostEqual(y[2], 1.24205) # example attached to this task says it's 1.2466, but it's probably a typo\n",
    "\n",
    "\n",
    "unittest.main(argv=[''], verbosity=2, exit=False)"
   ]
  },
  {
   "cell_type": "code",
   "execution_count": 47,
   "outputs": [],
   "source": [],
   "metadata": {
    "collapsed": false
   }
  }
 ],
 "metadata": {
  "kernelspec": {
   "display_name": "Python 3 (ipykernel)",
   "language": "python",
   "name": "python3"
  },
  "language_info": {
   "codemirror_mode": {
    "name": "ipython",
    "version": 3
   },
   "file_extension": ".py",
   "mimetype": "text/x-python",
   "name": "python",
   "nbconvert_exporter": "python",
   "pygments_lexer": "ipython3",
   "version": "3.7.9"
  },
  "toc": {
   "base_numbering": 1,
   "nav_menu": {},
   "number_sections": true,
   "sideBar": true,
   "skip_h1_title": false,
   "title_cell": "Table of Contents",
   "title_sidebar": "Contents",
   "toc_cell": false,
   "toc_position": {},
   "toc_section_display": true,
   "toc_window_display": false
  }
 },
 "nbformat": 4,
 "nbformat_minor": 1
}

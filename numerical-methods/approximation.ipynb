{
 "cells": [
  {
   "cell_type": "markdown",
   "source": [
    "Łukasz Blachnicki\n",
    "\n",
    "Formula 11"
   ],
   "metadata": {
    "collapsed": false
   }
  },
  {
   "cell_type": "code",
   "execution_count": 8,
   "outputs": [
    {
     "data": {
      "text/plain": "(0.13333333333333333, 7.793939393939394)"
     },
     "execution_count": 8,
     "metadata": {},
     "output_type": "execute_result"
    }
   ],
   "source": [
    "from typing import Tuple, List\n",
    "\n",
    "Point = Tuple[float, float]\n",
    "\n",
    "points: List[Point] = [\n",
    "    (1, 10),\n",
    "    (2, 18),\n",
    "    (3, 22),\n",
    "    (4, 27),\n",
    "    (5, 36),\n",
    "    (6, 49),\n",
    "    (7, 56),\n",
    "    (8, 64),\n",
    "    (9, 70),\n",
    "    (10, 78),\n",
    "]\n",
    "\n",
    "# returns parameters p0, p1 of a linear function\n",
    "def least_squares_approximation(points: List[Point]) -> Tuple[float, float]:\n",
    "    N = sum(p[0] for p in points)\n",
    "    L = sum(p[1] for p in points)\n",
    "    N_square_sum = sum(p[0]**2 for p in points)\n",
    "    N_L_sum = sum(p[0]*p[1] for p in points)\n",
    "\n",
    "    w = len(points) * N_square_sum - N * N\n",
    "    w1 = L * N_square_sum - N_L_sum * N\n",
    "    w2 = len(points) * N_L_sum - N * L\n",
    "\n",
    "    p0 = w1/w\n",
    "    p1 = w2/w\n",
    "\n",
    "    return p0, p1\n",
    "\n",
    "least_squares_approximation(points)"
   ],
   "metadata": {
    "collapsed": false
   }
  },
  {
   "cell_type": "code",
   "execution_count": 2,
   "metadata": {},
   "outputs": [
    {
     "name": "stderr",
     "output_type": "stream",
     "text": [
      "test_linear_approximation_points (__main__.TestNotebook) ... ok\n",
      "\n",
      "----------------------------------------------------------------------\n",
      "Ran 1 test in 0.001s\n",
      "\n",
      "OK\n"
     ]
    },
    {
     "data": {
      "text/plain": "<unittest.main.TestProgram at 0x7f9c32635e10>"
     },
     "execution_count": 2,
     "metadata": {},
     "output_type": "execute_result"
    }
   ],
   "source": [
    "import unittest\n",
    "\n",
    "class TestNotebook(unittest.TestCase):\n",
    "\n",
    "    def test_linear_approximation_points(self):\n",
    "        known_points: List[Point] = [\n",
    "            (1, 10),\n",
    "            (2, 18),\n",
    "            (3, 22),\n",
    "            (4, 27),\n",
    "            (5, 36),\n",
    "            (6, 49),\n",
    "            (7, 56),\n",
    "            (8, 64),\n",
    "            (9, 70),\n",
    "            (10, 78),\n",
    "        ]\n",
    "\n",
    "        actual = least_squares_approximation(known_points)\n",
    "\n",
    "        self.assertAlmostEqual(\n",
    "            actual[0],\n",
    "            0.133,\n",
    "            places=3\n",
    "        )\n",
    "        self.assertAlmostEqual(\n",
    "            actual[1],\n",
    "            7.794,\n",
    "            places=3\n",
    "        )\n",
    "\n",
    "unittest.main(argv=[''], verbosity=2, exit=False)"
   ]
  },
  {
   "cell_type": "code",
   "execution_count": 10,
   "metadata": {},
   "outputs": [
    {
     "data": {
      "text/plain": "<Figure size 432x288 with 1 Axes>",
      "image/png": "[encoded data removed]"
     },
     "metadata": {
      "needs_background": "light"
     },
     "output_type": "display_data"
    }
   ],
   "source": [
    "import matplotlib.pyplot as plt\n",
    "import numpy\n",
    "\n",
    "known_points: List[Point] = [\n",
    "    (1, 10),\n",
    "    (2, 18),\n",
    "    (3, 22),\n",
    "    (4, 27),\n",
    "    (5, 36),\n",
    "    (6, 49),\n",
    "    (7, 56),\n",
    "    (8, 64),\n",
    "    (9, 70),\n",
    "    (10, 78)\n",
    "]\n",
    "\n",
    "\n",
    "def graph(x: float, a: float, b: float):\n",
    "    return a * x + b\n",
    "\n",
    "params = least_squares_approximation(known_points)\n",
    "\n",
    "x_draw = [(x, graph(x, params[1], params[0])) for x in numpy.linspace(-1.0, 11.0, num=50)]\n",
    "plt.plot(*zip(*x_draw)) # interpolated curve\n",
    "\n",
    "plt.scatter(*zip(*known_points), c='red') # original points\n",
    "plt.xlabel('x')\n",
    "plt.ylabel('y')\n",
    "plt.show()"
   ]
  },
  {
   "cell_type": "markdown",
   "source": [
    "Formula 13\n",
    "\n",
    "# todo calculations"
   ],
   "metadata": {
    "collapsed": false
   }
  },
  {
   "cell_type": "code",
   "execution_count": 15,
   "metadata": {},
   "outputs": [
    {
     "name": "stdout",
     "output_type": "stream",
     "text": [
      "6.579251212010101 2.88 4.094110414826882 9.409906419952225 6\n"
     ]
    },
    {
     "data": {
      "text/plain": "(0.43623716750370534, 0.0016476811628989268)"
     },
     "execution_count": 15,
     "metadata": {},
     "output_type": "execute_result"
    }
   ],
   "source": [
    "import math\n",
    "\n",
    "known_points: List[Point] = [\n",
    "    (1, 0.03),\n",
    "    (2, 0.3),\n",
    "    (3, 0.45),\n",
    "    (4, 0.6),\n",
    "    (5, 0.7),\n",
    "    (6, 0.8),\n",
    "]\n",
    "\n",
    "# returns parameters a, b of y= a * lnx + b\n",
    "def ln_least_squares_1(points: List[Point]) -> Tuple[float, float]:\n",
    "    lnX_sum = sum(math.log(p[0]) for p in points)\n",
    "    Y_sum = sum(p[1] for p in points)\n",
    "    YlnX_sum = sum(p[1] * math.log(p[0]) for p in points)\n",
    "    lnXsquared_sum = sum(math.log(p[0])**2 for p in points)\n",
    "    n = len(points)\n",
    "\n",
    "    a = (Y_sum * lnX_sum + n * YlnX_sum) / (lnX_sum * lnX_sum + n * lnXsquared_sum)\n",
    "    b = (a * lnXsquared_sum - YlnX_sum) / lnX_sum\n",
    "\n",
    "    print(lnX_sum, Y_sum, YlnX_sum, lnXsquared_sum, n)\n",
    "\n",
    "    return a, b\n",
    "\n",
    "ln_least_squares_1(known_points)"
   ]
  },
  {
   "cell_type": "code",
   "execution_count": 20,
   "outputs": [
    {
     "name": "stderr",
     "output_type": "stream",
     "text": [
      "test_ln_least_squares_1 (__main__.TestNotebook) ... "
     ]
    },
    {
     "name": "stdout",
     "output_type": "stream",
     "text": [
      "6.579251212010101 2.88 4.094110414826882 9.409906419952225 6\n"
     ]
    },
    {
     "name": "stderr",
     "output_type": "stream",
     "text": [
      "ok\n",
      "\n",
      "----------------------------------------------------------------------\n",
      "Ran 1 test in 0.004s\n",
      "\n",
      "OK\n"
     ]
    },
    {
     "data": {
      "text/plain": "<unittest.main.TestProgram at 0x7f9c36022d10>"
     },
     "execution_count": 20,
     "metadata": {},
     "output_type": "execute_result"
    }
   ],
   "source": [
    "class TestNotebook(unittest.TestCase):\n",
    "\n",
    "    def test_ln_least_squares_1(self):\n",
    "        known_points: List[Point] = [\n",
    "            (1, 0.03),\n",
    "            (2, 0.3),\n",
    "            (3, 0.45),\n",
    "            (4, 0.6),\n",
    "            (5, 0.7),\n",
    "            (6, 0.8),\n",
    "        ]\n",
    "\n",
    "        actual = ln_least_squares_1(known_points)\n",
    "\n",
    "        self.assertAlmostEqual(\n",
    "            actual[0],\n",
    "            0.436,\n",
    "            places=3\n",
    "        )\n",
    "        self.assertAlmostEqual(\n",
    "            actual[1],\n",
    "            0.0016,\n",
    "            places=3\n",
    "        )\n",
    "\n",
    "unittest.main(argv=[''], verbosity=2, exit=False)"
   ],
   "metadata": {
    "collapsed": false
   }
  },
  {
   "cell_type": "code",
   "execution_count": 25,
   "outputs": [
    {
     "name": "stdout",
     "output_type": "stream",
     "text": [
      "6.579251212010101 2.88 4.094110414826882 9.409906419952225 6\n"
     ]
    },
    {
     "data": {
      "text/plain": "<Figure size 432x288 with 1 Axes>",
      "image/png": "[encoded data removed]"
     },
     "metadata": {
      "needs_background": "light"
     },
     "output_type": "display_data"
    }
   ],
   "source": [
    "known_points: List[Point] = [\n",
    "    (1, 0.03),\n",
    "    (2, 0.3),\n",
    "    (3, 0.45),\n",
    "    (4, 0.6),\n",
    "    (5, 0.7),\n",
    "    (6, 0.8),\n",
    "]\n",
    "\n",
    "\n",
    "def graph(x: float, a: float, b: float):\n",
    "    return a * math.log(x) + b\n",
    "\n",
    "params = ln_least_squares_1(known_points)\n",
    "\n",
    "x_draw = [(x, graph(x, params[0], params[1])) for x in numpy.linspace(0.01, 7.0, num=50)]\n",
    "plt.plot(*zip(*x_draw)) # interpolated curve\n",
    "\n",
    "plt.scatter(*zip(*known_points), c='red') # original points\n",
    "plt.xlabel('x')\n",
    "plt.ylabel('y')\n",
    "plt.show()"
   ],
   "metadata": {
    "collapsed": false
   }
  },
  {
   "cell_type": "code",
   "execution_count": null,
   "metadata": {},
   "outputs": [],
   "source": [
    "# jupyter nbconvert --execute --to pdf notebook.ipynb"
   ]
  }
 ],
 "metadata": {
  "kernelspec": {
   "display_name": "Python 3 (ipykernel)",
   "language": "python",
   "name": "python3"
  },
  "language_info": {
   "codemirror_mode": {
    "name": "ipython",
    "version": 3
   },
   "file_extension": ".py",
   "mimetype": "text/x-python",
   "name": "python",
   "nbconvert_exporter": "python",
   "pygments_lexer": "ipython3",
   "version": "3.7.9"
  },
  "toc": {
   "base_numbering": 1,
   "nav_menu": {},
   "number_sections": true,
   "sideBar": true,
   "skip_h1_title": false,
   "title_cell": "Table of Contents",
   "title_sidebar": "Contents",
   "toc_cell": false,
   "toc_position": {},
   "toc_section_display": true,
   "toc_window_display": false
  }
 },
 "nbformat": 4,
 "nbformat_minor": 1
}

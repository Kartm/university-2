{
 "cells": [
  {
   "cell_type": "code",
   "execution_count": 11,
   "outputs": [
    {
     "data": {
      "text/plain": "(1.5, 1.75)"
     },
     "execution_count": 11,
     "metadata": {},
     "output_type": "execute_result"
    }
   ],
   "source": [
    "from typing import Tuple, List\n",
    "\n",
    "Point = Tuple[float, float]\n",
    "\n",
    "points: List[Point] = [\n",
    "    (0, 4),\n",
    "    (1, 2),\n",
    "    (2.5, 2.75),\n",
    "]\n",
    "\n",
    "def interpolate(value: Point, points: List[Point]):\n",
    "    n = len(points)\n",
    "\n",
    "    x = value[0]\n",
    "    y_i = value[1]\n",
    "\n",
    "    for i in range(n):\n",
    "        p = 1\n",
    "        for j in range(n):\n",
    "            if i != j:\n",
    "                p = p * (x - points[j][0])/(points[i][0] - points[j][0])\n",
    "\n",
    "        y_i = y_i + p * points[i][1]\n",
    "\n",
    "    return value[0], y_i\n",
    "\n",
    "# interpolated point\n",
    "starting = (1.5, 0) # 0 initially\n",
    "\n",
    "interpolate(starting, points)"
   ],
   "metadata": {
    "collapsed": false
   }
  },
  {
   "cell_type": "code",
   "execution_count": null,
   "outputs": [],
   "source": [],
   "metadata": {
    "collapsed": false
   }
  }
 ],
 "metadata": {
  "kernelspec": {
   "display_name": "Python 3",
   "language": "python",
   "name": "python3"
  },
  "language_info": {
   "codemirror_mode": {
    "name": "ipython",
    "version": 2
   },
   "file_extension": ".py",
   "mimetype": "text/x-python",
   "name": "python",
   "nbconvert_exporter": "python",
   "pygments_lexer": "ipython2",
   "version": "2.7.6"
  }
 },
 "nbformat": 4,
 "nbformat_minor": 0
}
